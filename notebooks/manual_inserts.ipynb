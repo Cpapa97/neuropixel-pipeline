{
 "cells": [
  {
   "cell_type": "code",
   "execution_count": null,
   "metadata": {},
   "outputs": [],
   "source": [
    "from neuropixel_pipeline.schemata import ephys, manual_anatomy"
   ]
  },
  {
   "cell_type": "code",
   "execution_count": null,
   "metadata": {},
   "outputs": [],
   "source": [
    "scan_key = {\"animal_id\": 29187, \"session\": 18, \"scan_idx\": 1}"
   ]
  },
  {
   "cell_type": "code",
   "execution_count": null,
   "metadata": {},
   "outputs": [],
   "source": [
    "ephys.InsertionLocation.fill(\n",
    "    scan_key=scan_key,\n",
    "    insertion_number=,\n",
    "    # https://github.com/Cpapa97/neuropixel-pipeline/blob/2b3a8ec35f45b5f545f85a6799743848995863ac/neuropixel_pipeline/api/metadata.py#L132-L154\n",
    "    data=dict(\n",
    "        ap_location=,\n",
    "        ml_location=,\n",
    "        depth=,\n",
    "        skull_reference=,\n",
    "        theta=, # Optional?\n",
    "        phi=, # Optional?\n",
    "        beta=, # Optional?\n",
    "    )\n",
    ")"
   ]
  },
  {
   "cell_type": "code",
   "execution_count": null,
   "metadata": {},
   "outputs": [],
   "source": [
    "manual_anatomy.UnitArea()"
   ]
  },
  {
   "cell_type": "code",
   "execution_count": null,
   "metadata": {},
   "outputs": [],
   "source": [
    "manual_anatomy.UnitArea.fill(\n",
    "    scan_key=scan_key,\n",
    "    insertion_number=,\n",
    "    paramset_idx=,\n",
    "    curation_id=,\n",
    "    segmentation_method=\"manual\",\n",
    "    unit_id=,\n",
    "    brain_area=,\n",
    ")"
   ]
  },
  {
   "cell_type": "code",
   "execution_count": null,
   "metadata": {},
   "outputs": [],
   "source": [
    "ephys.InsertionLocation()"
   ]
  }
 ],
 "metadata": {
  "kernelspec": {
   "display_name": "kilosort",
   "language": "python",
   "name": "python3"
  },
  "language_info": {
   "name": "python",
   "version": "3.8.16"
  }
 },
 "nbformat": 4,
 "nbformat_minor": 2
}
