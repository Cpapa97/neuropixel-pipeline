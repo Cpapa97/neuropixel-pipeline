{
 "cells": [
  {
   "cell_type": "code",
   "execution_count": null,
   "metadata": {},
   "outputs": [],
   "source": [
    "import neuropixel_pipeline as npxl\n",
    "\n",
    "import datajoint as dj\n",
    "from neuropixel_pipeline import schemata, kilosort"
   ]
  },
  {
   "cell_type": "code",
   "execution_count": null,
   "metadata": {},
   "outputs": [],
   "source": [
    "dj.Diagram(schemata.ephys)"
   ]
  },
  {
   "cell_type": "code",
   "execution_count": null,
   "metadata": {},
   "outputs": [],
   "source": [
    "dj.Diagram(schemata.probe)"
   ]
  },
  {
   "cell_type": "code",
   "execution_count": null,
   "metadata": {},
   "outputs": [],
   "source": [
    "\"\"\"\n",
    "Signature:\n",
    "kilosort.run_pykilosort(\n",
    "    continuous_file,\n",
    "    kilosort_output_directory,\n",
    "    params,\n",
    "    channel_ind,\n",
    "    x_coords,\n",
    "    y_coords,\n",
    "    shank_ind,\n",
    "    connected,\n",
    "    sample_rate,\n",
    ")\n",
    "\"\"\"\n",
    "\n",
    "kilosort.run_pykilosort(...)"
   ]
  }
 ],
 "metadata": {
  "kernelspec": {
   "display_name": "Python 3",
   "language": "python",
   "name": "python3"
  },
  "language_info": {
   "codemirror_mode": {
    "name": "ipython",
    "version": 3
   },
   "file_extension": ".py",
   "mimetype": "text/x-python",
   "name": "python",
   "nbconvert_exporter": "python",
   "pygments_lexer": "ipython3",
   "version": "3.8.16"
  },
  "orig_nbformat": 4,
  "vscode": {
   "interpreter": {
    "hash": "7451cdb0a701b6010b0e29755e2be0cb0d301ff3c327f5891a5fe5973a244f76"
   }
  }
 },
 "nbformat": 4,
 "nbformat_minor": 2
}
