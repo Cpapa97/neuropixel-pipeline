{
 "cells": [
  {
   "cell_type": "code",
   "execution_count": null,
   "metadata": {},
   "outputs": [],
   "source": [
    "import datajoint as dj\n",
    "\n",
    "from neuropixel_pipeline.schemata import probe, ephys, config, manual_anatomy, minion"
   ]
  },
  {
   "cell_type": "code",
   "execution_count": null,
   "metadata": {},
   "outputs": [],
   "source": [
    "# dj.Diagram(config) + dj.Diagram(probe) + dj.Diagram(ephys) + dj.Diagram(manual_anatomy) + dj.Diagram(minion)"
   ]
  }
 ],
 "metadata": {
  "kernelspec": {
   "display_name": "Python3 (kilosort)",
   "language": "python",
   "name": "kilosort"
  }
 },
 "nbformat": 4,
 "nbformat_minor": 2
}
