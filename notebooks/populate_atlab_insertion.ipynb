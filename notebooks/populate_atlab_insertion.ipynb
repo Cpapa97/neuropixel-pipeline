{
 "cells": [
  {
   "cell_type": "code",
   "execution_count": null,
   "metadata": {},
   "outputs": [],
   "source": [
    "from neuropixel_pipeline.modules import atlab\n",
    "import neuropixel_pipeline.modules.atlab.__main__"
   ]
  },
  {
   "cell_type": "code",
   "execution_count": null,
   "metadata": {},
   "outputs": [],
   "source": [
    "scan_key = {\"animal_id\": 29187, \"session_id\": 18, \"scan_id\": 1}\n",
    "\n",
    "pipeline_input = dict(\n",
    "    params=dict(\n",
    "        pipeline_mode=\"insertion meta\",\n",
    "        scan_key=scan_key,\n",
    "        base_dir=\"/mnt/scratch09/Ephys\",\n",
    "        insertion_number=,\n",
    "        insertion_data=dict(),\n",
    "    )\n",
    ")\n",
    "\n",
    "atlab.__main__.main(pipeline_input)"
   ]
  }
 ],
 "metadata": {
  "kernelspec": {
   "display_name": "Python3 (kilosort)",
   "language": "python",
   "name": "kilosort"
  }
 },
 "nbformat": 4,
 "nbformat_minor": 2
}
