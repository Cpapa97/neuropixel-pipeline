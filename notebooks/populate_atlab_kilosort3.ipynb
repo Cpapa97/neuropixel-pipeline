{
 "cells": [
  {
   "cell_type": "code",
   "execution_count": null,
   "metadata": {},
   "outputs": [],
   "source": [
    "from neuropixel_pipeline.modules import atlab\n",
    "import neuropixel_pipeline.modules.atlab.__main__"
   ]
  },
  {
   "cell_type": "code",
   "execution_count": null,
   "metadata": {},
   "outputs": [],
   "source": [
    "scan_key = {\"animal_id\": 29187, \"session_id\": 18, \"scan_id\": 1}\n",
    "insertion_id = 0\n",
    "\n",
    "pipeline_input = dict(\n",
    "    params=dict(\n",
    "        pipeline_mode=\"no curation\",\n",
    "        scan_key=scan_key,\n",
    "        insertion_id=insertion_id,\n",
    "        insertion_data=None, # manually inputted dict, not strictly necessary\n",
    "        base_dir=\"/mnt/scratch09/Ephys\",\n",
    "        clustering_method=\"kilosort3\",\n",
    "        clustering_task_mode=\"load\",\n",
    "        clustering_output_dir=None,\n",
    "        clustering_output_suffix=\"../spike_sorted\",\n",
    "    ),\n",
    "    populate_kwargs={\"reserve_jobs\": False},\n",
    ")\n",
    "\n",
    "atlab.__main__.main(pipeline_input)"
   ]
  }
 ],
 "metadata": {
  "kernelspec": {
   "display_name": "Python3 (kilosort)",
   "language": "python",
   "name": "kilosort"
  }
 },
 "nbformat": 4,
 "nbformat_minor": 2
}
