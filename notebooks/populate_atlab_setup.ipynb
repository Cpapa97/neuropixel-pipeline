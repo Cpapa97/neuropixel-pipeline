{
 "cells": [
  {
   "cell_type": "code",
   "execution_count": null,
   "metadata": {},
   "outputs": [],
   "source": [
    "from neuropixel_pipeline.modules import atlab\n",
    "import neuropixel_pipeline.modules.atlab.__main__"
   ]
  },
  {
   "cell_type": "code",
   "execution_count": null,
   "metadata": {},
   "outputs": [],
   "source": [
    "pipeline_input = dict(params=dict(pipeline_mode=\"setup\"))\n",
    "\n",
    "atlab.__main__.main(pipeline_input)"
   ]
  }
 ],
 "metadata": {
  "kernelspec": {
   "display_name": "Python3 (kilosort)",
   "language": "python",
   "name": "kilosort"
  }
 },
 "nbformat": 4,
 "nbformat_minor": 2
}
